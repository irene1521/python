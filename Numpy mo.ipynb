{
 "cells": [
  {
   "cell_type": "code",
   "execution_count": 1,
   "metadata": {},
   "outputs": [],
   "source": [
    "import numpy as np"
   ]
  },
  {
   "cell_type": "markdown",
   "metadata": {},
   "source": [
    "##### 创建矩阵 np.array([[column1[,[column2]])"
   ]
  },
  {
   "cell_type": "code",
   "execution_count": 2,
   "metadata": {},
   "outputs": [
    {
     "name": "stdout",
     "output_type": "stream",
     "text": [
      "[[1 2 3]\n",
      " [2 3 4]]\n"
     ]
    }
   ],
   "source": [
    "arr = np.array([[1,2,3],[2,3,4]])\n",
    "print(arr)"
   ]
  },
  {
   "cell_type": "markdown",
   "metadata": {},
   "source": [
    "##### 矩阵的行列数 name.shape\n",
    "##### 矩阵的维数 name.ndim\n",
    "##### 矩阵的元素个数 name.size"
   ]
  },
  {
   "cell_type": "code",
   "execution_count": 3,
   "metadata": {},
   "outputs": [
    {
     "name": "stdout",
     "output_type": "stream",
     "text": [
      "shape: (2, 3)\n",
      "number of dim: 2\n",
      "size: 6\n"
     ]
    }
   ],
   "source": [
    "print('shape:',arr.shape)\n",
    "print('number of dim:',arr.ndim)\n",
    "print('size:',arr.size)"
   ]
  },
  {
   "cell_type": "markdown",
   "metadata": {},
   "source": [
    "###### 全是0的矩阵 np.zeros(())\n",
    "###### 全是1的矩阵 np.ones(())\n",
    "###### 随机生成矩阵 np.random.random(())"
   ]
  },
  {
   "cell_type": "code",
   "execution_count": 4,
   "metadata": {},
   "outputs": [
    {
     "name": "stdout",
     "output_type": "stream",
     "text": [
      "a: [[0. 0. 0.]\n",
      " [0. 0. 0.]]\n",
      "b: [[1. 1.]\n",
      " [1. 1.]\n",
      " [1. 1.]]\n",
      "c: [[0.90437362 0.95854747 0.11054865]\n",
      " [0.4462528  0.30796783 0.7038579 ]\n",
      " [0.99767887 0.86530776 0.16080183]]\n"
     ]
    }
   ],
   "source": [
    "a = np.zeros((2,3))\n",
    "print(\"a:\",a)\n",
    "\n",
    "b = np.ones((3,2))\n",
    "print(\"b:\",b)\n",
    "\n",
    "c = np.random.random((3,3))\n",
    "print(\"c:\",c)"
   ]
  },
  {
   "cell_type": "markdown",
   "metadata": {},
   "source": [
    "###### 根据数值范围生成矩阵 np.arange(min,max,step).reshape((r,c))  默认下限为0 步长为1\n",
    "###### 根据元素个数生成矩阵 np.linspace(num1,numx,n).reshape((r,c))"
   ]
  },
  {
   "cell_type": "code",
   "execution_count": 5,
   "metadata": {},
   "outputs": [
    {
     "name": "stdout",
     "output_type": "stream",
     "text": [
      "d: [[1.  1.5 2.  2.5]\n",
      " [3.  3.5 4.  4.5]]\n",
      "e: [[ 1.  20.6]\n",
      " [40.2 59.8]\n",
      " [79.4 99. ]]\n"
     ]
    }
   ],
   "source": [
    "d = np.arange(1,5,0.5).reshape((2,4))\n",
    "print(\"d:\",d)\n",
    "\n",
    "e = np.linspace(1,99,6).reshape((3,2))\n",
    "print(\"e:\",e)"
   ]
  },
  {
   "cell_type": "markdown",
   "metadata": {},
   "source": [
    "###### 矩阵对应位置直接相乘 a*b"
   ]
  },
  {
   "cell_type": "code",
   "execution_count": 6,
   "metadata": {},
   "outputs": [
    {
     "name": "stdout",
     "output_type": "stream",
     "text": [
      "[[ 3  8 15]\n",
      " [ 2  6 12]]\n"
     ]
    }
   ],
   "source": [
    "a = np.array([[1,2,3],[2,3,4]])\n",
    "b = np.array([[3,4,5],[1,2,3]])\n",
    "c = a*b\n",
    "print(c)"
   ]
  },
  {
   "cell_type": "markdown",
   "metadata": {},
   "source": [
    "###### 矩阵相乘 np.dot(a,b)"
   ]
  },
  {
   "cell_type": "code",
   "execution_count": 7,
   "metadata": {},
   "outputs": [
    {
     "name": "stdout",
     "output_type": "stream",
     "text": [
      "a: [[1 2 3]\n",
      " [2 3 4]]\n",
      "b: [[3 4]\n",
      " [1 2]\n",
      " [2 3]]\n",
      "c: [[11 17]\n",
      " [17 26]]\n"
     ]
    }
   ],
   "source": [
    "a = np.array([[1,2,3],[2,3,4]])\n",
    "b = np.array([[3,4],[1,2],[2,3]])\n",
    "c = np.dot(a,b)\n",
    "print(\"a:\",a)\n",
    "print(\"b:\",b)\n",
    "print(\"c:\",c)"
   ]
  },
  {
   "cell_type": "markdown",
   "metadata": {},
   "source": [
    "###### 判断矩阵中元素大小"
   ]
  },
  {
   "cell_type": "code",
   "execution_count": 8,
   "metadata": {},
   "outputs": [
    {
     "name": "stdout",
     "output_type": "stream",
     "text": [
      "True\n"
     ]
    }
   ],
   "source": [
    "b = 2\n",
    "print(b<3)"
   ]
  },
  {
   "cell_type": "markdown",
   "metadata": {},
   "source": [
    "###### 求和、最大值、最小值、均值、累加值 np.sum max min mean cumsum\n",
    "axis=0 对列做运算"
   ]
  },
  {
   "cell_type": "code",
   "execution_count": 9,
   "metadata": {},
   "outputs": [
    {
     "name": "stdout",
     "output_type": "stream",
     "text": [
      "sum: [3 5 7]\n",
      "max： [2 3 4]\n",
      "min： [1 2 3]\n",
      "mean： [2. 3.]\n",
      "cumsum： [[1 3 6]\n",
      " [2 5 9]]\n"
     ]
    }
   ],
   "source": [
    "a=np.array([[1,2,3],[2,3,4]])\n",
    "print(\"sum:\",np.sum(a,axis=0))\n",
    "print(\"max：\",np.max(a,axis=0))\n",
    "print(\"min：\",np.min(a,axis=0))\n",
    "print(\"mean：\",np.mean(a,axis=1))\n",
    "print(\"cumsum：\",np.cumsum(a,axis=1))"
   ]
  },
  {
   "cell_type": "markdown",
   "metadata": {},
   "source": [
    "###### 求最大值最小值在第几位 np.argmax\n",
    "位数从0开始"
   ]
  },
  {
   "cell_type": "code",
   "execution_count": 10,
   "metadata": {},
   "outputs": [
    {
     "name": "stdout",
     "output_type": "stream",
     "text": [
      "[1 1 1]\n"
     ]
    }
   ],
   "source": [
    "a=np.array([[1,2,3],[2,3,4]])\n",
    "print(np.argmax(a,axis=0))"
   ]
  },
  {
   "cell_type": "markdown",
   "metadata": {},
   "source": [
    "###### 计算累差值 np.diff"
   ]
  },
  {
   "cell_type": "code",
   "execution_count": 11,
   "metadata": {},
   "outputs": [
    {
     "name": "stdout",
     "output_type": "stream",
     "text": [
      "[[ 2  2 -1]]\n"
     ]
    }
   ],
   "source": [
    "a=np.array([[1,5,6],[3,7,5]])\n",
    "print(np.diff(a,axis=0))"
   ]
  },
  {
   "cell_type": "markdown",
   "metadata": {},
   "source": [
    "###### 得出哪些行和列的值非零 np.nonzero()\n",
    "给出的结果中为非零值所在的行和列的位置 第一部分为行 第二部分为列"
   ]
  },
  {
   "cell_type": "code",
   "execution_count": 12,
   "metadata": {},
   "outputs": [
    {
     "name": "stdout",
     "output_type": "stream",
     "text": [
      "[[1 0 6]\n",
      " [3 7 5]]\n",
      "(array([0, 0, 1, 1, 1], dtype=int64), array([0, 2, 0, 1, 2], dtype=int64))\n"
     ]
    }
   ],
   "source": [
    "a=np.array([[1,0,6],[3,7,5]])\n",
    "print(a)\n",
    "print(np.nonzero(a))"
   ]
  },
  {
   "cell_type": "markdown",
   "metadata": {},
   "source": [
    "解释：一行一列、一行三列、二行一列、二行二列、二行三列"
   ]
  },
  {
   "cell_type": "markdown",
   "metadata": {},
   "source": [
    "###### 逐行数字排序"
   ]
  },
  {
   "cell_type": "code",
   "execution_count": 13,
   "metadata": {},
   "outputs": [
    {
     "name": "stdout",
     "output_type": "stream",
     "text": [
      "[[0 1 6]\n",
      " [3 5 7]]\n"
     ]
    }
   ],
   "source": [
    "a=np.array([[1,0,6],[3,7,5]])\n",
    "print(np.sort(a,axis=1))"
   ]
  },
  {
   "cell_type": "markdown",
   "metadata": {},
   "source": [
    "###### 转置 np.transpose()"
   ]
  },
  {
   "cell_type": "code",
   "execution_count": 14,
   "metadata": {},
   "outputs": [
    {
     "name": "stdout",
     "output_type": "stream",
     "text": [
      "a_: [[1 3]\n",
      " [0 7]\n",
      " [6 5]]\n"
     ]
    }
   ],
   "source": [
    "a=np.array([[1,0,6],[3,7,5]])\n",
    "print(\"a_:\",np.transpose(a))"
   ]
  },
  {
   "cell_type": "markdown",
   "metadata": {},
   "source": [
    "###### 数据平滑 np.clip(a,min,max)"
   ]
  },
  {
   "cell_type": "code",
   "execution_count": 15,
   "metadata": {},
   "outputs": [
    {
     "name": "stdout",
     "output_type": "stream",
     "text": [
      "[[10.  1.  6.]\n",
      " [ 3.  7.  1.]]\n"
     ]
    }
   ],
   "source": [
    "a=np.array([[151,0,6],[3,7,0.05]])\n",
    "print(np.clip(a,1,10))"
   ]
  },
  {
   "cell_type": "markdown",
   "metadata": {},
   "source": [
    "###### 根据位置找到具体某个值  name[position,position]\n",
    "从0开始\n",
    "：代表所有数\n",
    "###### 非传递赋值"
   ]
  },
  {
   "cell_type": "code",
   "execution_count": 16,
   "metadata": {},
   "outputs": [
    {
     "name": "stdout",
     "output_type": "stream",
     "text": [
      "7\n",
      "[[ 1  0  6]\n",
      " [ 3 18  5]]\n",
      "[[1 0 6]\n",
      " [3 7 5]]\n"
     ]
    }
   ],
   "source": [
    "a=np.array([[1,0,6],[3,7,5]])\n",
    "print(a[1,1])\n",
    "\n",
    "b = a.copy()\n",
    "a[1,1]=18 #根据位置改变某一个值\n",
    "print(a)\n",
    "print(b)"
   ]
  },
  {
   "cell_type": "markdown",
   "metadata": {},
   "source": [
    "###### 输出所有行/列 row column\n",
    "###### 转置后输出\n",
    "###### 输出所有元素"
   ]
  },
  {
   "cell_type": "code",
   "execution_count": 17,
   "metadata": {},
   "outputs": [
    {
     "name": "stdout",
     "output_type": "stream",
     "text": [
      "[1 0 6]\n",
      "[3 7 5]\n",
      "[1 3]\n",
      "[0 7]\n",
      "[6 5]\n",
      "1\n",
      "0\n",
      "6\n",
      "3\n",
      "7\n",
      "5\n"
     ]
    }
   ],
   "source": [
    "a=np.array([[1,0,6],[3,7,5]])\n",
    "for row in a:\n",
    "    print(row)\n",
    "for column in a.T:\n",
    "    print(column)\n",
    "for item in a.flat:\n",
    "    print(item)"
   ]
  },
  {
   "cell_type": "code",
   "execution_count": 18,
   "metadata": {},
   "outputs": [
    {
     "name": "stdout",
     "output_type": "stream",
     "text": [
      "[[1 0 6]\n",
      " [3 7 5]]\n",
      "[[3 4 7]\n",
      " [2 8 4]]\n"
     ]
    }
   ],
   "source": [
    "a=np.array([[1,0,6],[3,7,5]])\n",
    "b=np.array([[3,4,7],[2,8,4]])\n",
    "print(a)\n",
    "print(b)"
   ]
  },
  {
   "cell_type": "markdown",
   "metadata": {},
   "source": [
    "###### 上下合并矩阵"
   ]
  },
  {
   "cell_type": "code",
   "execution_count": 19,
   "metadata": {},
   "outputs": [
    {
     "name": "stdout",
     "output_type": "stream",
     "text": [
      "[[1 0 6]\n",
      " [3 7 5]\n",
      " [3 4 7]\n",
      " [2 8 4]]\n"
     ]
    }
   ],
   "source": [
    "print(np.vstack((a,b)))"
   ]
  },
  {
   "cell_type": "markdown",
   "metadata": {},
   "source": [
    "###### 左右合并矩阵"
   ]
  },
  {
   "cell_type": "code",
   "execution_count": 20,
   "metadata": {},
   "outputs": [
    {
     "name": "stdout",
     "output_type": "stream",
     "text": [
      "[[1 0 6 3 4 7]\n",
      " [3 7 5 2 8 4]]\n"
     ]
    }
   ],
   "source": [
    "print(np.hstack((a,b)))"
   ]
  },
  {
   "cell_type": "markdown",
   "metadata": {},
   "source": [
    "###### 分割矩阵  np.split(a,分割为几块,对行/列分) \n",
    "1为竖向分割 0为衡量分割"
   ]
  },
  {
   "cell_type": "code",
   "execution_count": 21,
   "metadata": {},
   "outputs": [
    {
     "name": "stdout",
     "output_type": "stream",
     "text": [
      "[array([[3],\n",
      "       [2]]), array([[4],\n",
      "       [8]]), array([[7],\n",
      "       [4]])]\n"
     ]
    }
   ],
   "source": [
    "print(np.split(b,3,1))"
   ]
  },
  {
   "cell_type": "markdown",
   "metadata": {},
   "source": [
    "###### 不等分割矩阵 np.array_split(name,块数，行/列）\n",
    "第一个矩阵最多"
   ]
  },
  {
   "cell_type": "code",
   "execution_count": 22,
   "metadata": {},
   "outputs": [
    {
     "name": "stdout",
     "output_type": "stream",
     "text": [
      "[array([[3, 4],\n",
      "       [2, 8]]), array([[7],\n",
      "       [4]])]\n"
     ]
    }
   ],
   "source": [
    "print(np.array_split(b,2,1))"
   ]
  },
  {
   "cell_type": "markdown",
   "metadata": {},
   "source": [
    "###### 横向分割矩阵 np.vsplit(name,num)"
   ]
  },
  {
   "cell_type": "code",
   "execution_count": 23,
   "metadata": {},
   "outputs": [
    {
     "name": "stdout",
     "output_type": "stream",
     "text": [
      "[array([[1, 0, 6]]), array([[3, 7, 5]])]\n"
     ]
    }
   ],
   "source": [
    "print(np.vsplit(a,2))"
   ]
  },
  {
   "cell_type": "markdown",
   "metadata": {},
   "source": [
    "###### 纵向分割矩阵 np.hsplit(name,num)"
   ]
  },
  {
   "cell_type": "code",
   "execution_count": 24,
   "metadata": {},
   "outputs": [
    {
     "name": "stdout",
     "output_type": "stream",
     "text": [
      "[array([[1],\n",
      "       [3]]), array([[0],\n",
      "       [7]]), array([[6],\n",
      "       [5]])]\n"
     ]
    }
   ],
   "source": [
    "print(np.hsplit(a,3))"
   ]
  }
 ],
 "metadata": {
  "kernelspec": {
   "display_name": "Python 3",
   "language": "python",
   "name": "python3"
  },
  "language_info": {
   "codemirror_mode": {
    "name": "ipython",
    "version": 3
   },
   "file_extension": ".py",
   "mimetype": "text/x-python",
   "name": "python",
   "nbconvert_exporter": "python",
   "pygments_lexer": "ipython3",
   "version": "3.7.0"
  }
 },
 "nbformat": 4,
 "nbformat_minor": 2
}
