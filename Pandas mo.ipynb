{
 "cells": [
  {
   "cell_type": "code",
   "execution_count": 1,
   "metadata": {},
   "outputs": [],
   "source": [
    "import numpy as np\n",
    "import pandas as pd\n",
    "import matplotlib.pyplot as plt"
   ]
  },
  {
   "cell_type": "code",
   "execution_count": 2,
   "metadata": {},
   "outputs": [
    {
     "name": "stdout",
     "output_type": "stream",
     "text": [
      "0     1.0\n",
      "1     3.0\n",
      "2     6.0\n",
      "3     NaN\n",
      "4    44.0\n",
      "5     1.0\n",
      "dtype: float64\n"
     ]
    }
   ],
   "source": [
    "#创建列\n",
    "s = pd.Series([1,3,6,np.nan,44,1])  #np.nan代表non\n",
    "print(s)"
   ]
  },
  {
   "cell_type": "code",
   "execution_count": 3,
   "metadata": {},
   "outputs": [
    {
     "name": "stdout",
     "output_type": "stream",
     "text": [
      "DatetimeIndex(['2019-01-01', '2019-01-02', '2019-01-03', '2019-01-04',\n",
      "               '2019-01-05', '2019-01-06', '2019-01-07', '2019-01-08',\n",
      "               '2019-01-09', '2019-01-10', '2019-01-11', '2019-01-12',\n",
      "               '2019-01-13', '2019-01-14', '2019-01-15', '2019-01-16',\n",
      "               '2019-01-17', '2019-01-18', '2019-01-19', '2019-01-20',\n",
      "               '2019-01-21', '2019-01-22', '2019-01-23', '2019-01-24',\n",
      "               '2019-01-25', '2019-01-26', '2019-01-27', '2019-01-28',\n",
      "               '2019-01-29', '2019-01-30', '2019-01-31', '2019-02-01',\n",
      "               '2019-02-02', '2019-02-03', '2019-02-04', '2019-02-05',\n",
      "               '2019-02-06', '2019-02-07', '2019-02-08', '2019-02-09',\n",
      "               '2019-02-10', '2019-02-11', '2019-02-12', '2019-02-13',\n",
      "               '2019-02-14', '2019-02-15', '2019-02-16', '2019-02-17',\n",
      "               '2019-02-18', '2019-02-19', '2019-02-20', '2019-02-21',\n",
      "               '2019-02-22', '2019-02-23', '2019-02-24', '2019-02-25',\n",
      "               '2019-02-26', '2019-02-27'],\n",
      "              dtype='datetime64[ns]', freq='D')\n"
     ]
    }
   ],
   "source": [
    "#创建日期序列 \n",
    "#pd.date_range(起始日期, 终止日期, periods=None, freq=’D’, tz=None, normalize=False, name=None, closed=None)\n",
    "#freq D H M 若为Y和M则返回本年最后一天或本月最后一天\n",
    "#tz时区Asia Hong_Kong\n",
    "#normalize 若为true则start和end被转化为0点\n",
    "#name 时间索引的名称\n",
    "#closed指start和end的区间范围 left左闭右开 right左开右闭 none闭区间\n",
    "d = pd.date_range(\"20190101\",\"20190227\",periods=None,freq=\"D\")\n",
    "print(d)"
   ]
  },
  {
   "cell_type": "code",
   "execution_count": 4,
   "metadata": {},
   "outputs": [
    {
     "name": "stdout",
     "output_type": "stream",
     "text": [
      "            A          B   C  D      E    F\n",
      "2019-01-01  1 2019-04-30 NaN  3   test  foo\n",
      "2019-01-02  1 2019-04-30 NaN  3  train  foo\n",
      "2019-01-03  1 2019-04-30 NaN  3   test  foo\n",
      "2019-01-04  1 2019-04-30 NaN  3  train  foo\n"
     ]
    }
   ],
   "source": [
    "#字典传入创建二维表格\n",
    "dfs = pd.DataFrame({\"A\":1,\n",
    "                    \"B\":pd.Timestamp(\"20190430\"),\n",
    "                    \"C\":pd.Series(1,index=list(range(4)),dtype=\"float32\"),\n",
    "                    \"D\":np.array([3]*4,dtype=\"int32\"),\n",
    "                   \"E\":pd.Categorical([\"test\",\"train\",\"test\",\"train\"]),\n",
    "                   \"F\":\"foo\"},index=pd.date_range(\"20190101\",periods=4))\n",
    "print(dfs)"
   ]
  },
  {
   "cell_type": "code",
   "execution_count": 5,
   "metadata": {},
   "outputs": [
    {
     "name": "stdout",
     "output_type": "stream",
     "text": [
      "             A   B   C   D\n",
      "2019-01-01   0   1   2   3\n",
      "2019-01-02   4   5   6   7\n",
      "2019-01-03   8   9  10  11\n",
      "2019-01-04  12  13  14  15\n",
      "2019-01-05  16  17  18  19\n",
      "2019-01-06  20  21  22  23\n"
     ]
    }
   ],
   "source": [
    "#创建二维表格\n",
    "dates = pd.date_range(\"20190101\",periods=6)\n",
    "df = pd.DataFrame(np.arange(24).reshape(6,4),index=dates,columns=[\"A\",\"B\",\"C\",\"D\"])\n",
    "print(df)"
   ]
  },
  {
   "cell_type": "code",
   "execution_count": 6,
   "metadata": {},
   "outputs": [
    {
     "name": "stdout",
     "output_type": "stream",
     "text": [
      "             A   B   C   D  E\n",
      "2019-01-01   0   1   2   3  1\n",
      "2019-01-02   4   5   6   7  2\n",
      "2019-01-03   8   9  10  11  3\n",
      "2019-01-04  12  13  14  15  4\n",
      "2019-01-05  16  17  18  19  5\n",
      "2019-01-06  20  21  22  23  6\n"
     ]
    }
   ],
   "source": [
    "#添加新列 index应保持一致\n",
    "df[\"E\"] = pd.Series([1,2,3,4,5,6],index=pd.date_range(\"20190101\",periods=6))\n",
    "print(df)"
   ]
  },
  {
   "cell_type": "code",
   "execution_count": 7,
   "metadata": {},
   "outputs": [
    {
     "name": "stdout",
     "output_type": "stream",
     "text": [
      "A列： 2019-01-01     0\n",
      "2019-01-02     4\n",
      "2019-01-03     8\n",
      "2019-01-04    12\n",
      "2019-01-05    16\n",
      "2019-01-06    20\n",
      "Freq: D, Name: A, dtype: int32\n",
      "1-4行：             A  B   C   D  E\n",
      "2019-01-01  0  1   2   3  1\n",
      "2019-01-02  4  5   6   7  2\n",
      "2019-01-03  8  9  10  11  3\n",
      "0102的DE列: D    7\n",
      "E    2\n",
      "Name: 2019-01-02 00:00:00, dtype: int64\n",
      "第四行第四列: 15\n"
     ]
    }
   ],
   "source": [
    "#显示某列\n",
    "#loc-select by label ,iloc-select by position\n",
    "print(\"A列：\",df[\"A\"])\n",
    "#显示某几行\n",
    "print(\"1-4行：\",df[0:3])\n",
    "#根据标签显示某行某列\n",
    "print(\"0102的DE列:\",df.loc[\"20190102\",[\"D\",\"E\"]])\n",
    "#根据位置显示某行某列\n",
    "print(\"第四行第四列:\",df.iloc[3,3])"
   ]
  },
  {
   "cell_type": "code",
   "execution_count": 8,
   "metadata": {},
   "outputs": [
    {
     "name": "stdout",
     "output_type": "stream",
     "text": [
      "             A   B   C   D  E\n",
      "2019-01-04  12  13  14  15  4\n",
      "2019-01-05  16  17  18  19  5\n",
      "2019-01-06  20  21  22  23  6\n"
     ]
    }
   ],
   "source": [
    "#筛选值\n",
    "print(df[df.A>8])"
   ]
  },
  {
   "cell_type": "code",
   "execution_count": 9,
   "metadata": {},
   "outputs": [
    {
     "name": "stdout",
     "output_type": "stream",
     "text": [
      "             A   B     C   D  E\n",
      "2019-01-01   0   1     2   3  1\n",
      "2019-01-02   4   5     6   7  2\n",
      "2019-01-03   8   9  1111  11  3\n",
      "2019-01-04  12  13    14  15  4\n",
      "2019-01-05  16  17    18  19  5\n",
      "2019-01-06  20  21    22  23  6\n"
     ]
    }
   ],
   "source": [
    "#改变值\n",
    "df.iloc[2,2] = 1111\n",
    "print(df)"
   ]
  },
  {
   "cell_type": "code",
   "execution_count": 10,
   "metadata": {},
   "outputs": [
    {
     "name": "stdout",
     "output_type": "stream",
     "text": [
      "            A   B     C   D  E\n",
      "2019-01-01  0   1     2   3  1\n",
      "2019-01-02  4   5     6   7  2\n",
      "2019-01-03  4   9  1111  11  3\n",
      "2019-01-04  4  13    14  15  4\n",
      "2019-01-05  4  17    18  19  5\n",
      "2019-01-06  4  21    22  23  6\n",
      "              A    B    C    D    E\n",
      "2019-01-01    0    1    2    3    1\n",
      "2019-01-02  100  100  100  100  100\n",
      "2019-01-03  100  100  100  100  100\n",
      "2019-01-04  100  100  100  100  100\n",
      "2019-01-05  100  100  100  100  100\n",
      "2019-01-06  100  100  100  100  100\n"
     ]
    },
    {
     "name": "stderr",
     "output_type": "stream",
     "text": [
      "D:\\Anaconda\\lib\\site-packages\\ipykernel_launcher.py:3: SettingWithCopyWarning: \n",
      "A value is trying to be set on a copy of a slice from a DataFrame\n",
      "\n",
      "See the caveats in the documentation: http://pandas.pydata.org/pandas-docs/stable/indexing.html#indexing-view-versus-copy\n",
      "  This is separate from the ipykernel package so we can avoid doing imports until\n"
     ]
    }
   ],
   "source": [
    "#数据平滑\n",
    "dfcopy=df.copy()\n",
    "dfcopy.A[dfcopy.A>4] = 4 #仅平滑该值\n",
    "print(dfcopy)\n",
    "dfcopy[dfcopy.A>3] = 100 #平滑该值所在的行\n",
    "print(dfcopy)"
   ]
  },
  {
   "cell_type": "code",
   "execution_count": 11,
   "metadata": {},
   "outputs": [
    {
     "name": "stdout",
     "output_type": "stream",
     "text": [
      "             A   B     C   D  E\n",
      "2019-01-01   0   1   2.0   3  1\n",
      "2019-01-02   4   5   6.0   7  2\n",
      "2019-01-03   8   9   NaN  11  3\n",
      "2019-01-04  12  13  14.0  15  4\n",
      "2019-01-05  16  17  18.0  19  5\n",
      "2019-01-06  20  21  22.0  23  6\n",
      "             A   B   D  E\n",
      "2019-01-01   0   1   3  1\n",
      "2019-01-02   4   5   7  2\n",
      "2019-01-03   8   9  11  3\n",
      "2019-01-04  12  13  15  4\n",
      "2019-01-05  16  17  19  5\n",
      "2019-01-06  20  21  23  6\n"
     ]
    }
   ],
   "source": [
    "#丢掉缺失值\n",
    "df.iloc[2,2]=np.nan\n",
    "print(df)\n",
    "df = df.dropna(axis=1,how=\"any\")\n",
    "# axis 0表示丢掉行 1表示丢掉列\n",
    "# how里面any表示只要有就丢掉该行 all表示全部是nan才丢掉该行\n",
    "print(df)"
   ]
  },
  {
   "cell_type": "code",
   "execution_count": 12,
   "metadata": {},
   "outputs": [
    {
     "name": "stdout",
     "output_type": "stream",
     "text": [
      "             A   B     D  E\n",
      "2019-01-01   0   1   3.0  1\n",
      "2019-01-02   4   5   7.0  2\n",
      "2019-01-03   8   9   NaN  3\n",
      "2019-01-04  12  13  15.0  4\n",
      "2019-01-05  16  17  19.0  5\n",
      "2019-01-06  20  21  23.0  6\n",
      "             A   B       D  E\n",
      "2019-01-01   0   1     3.0  1\n",
      "2019-01-02   4   5     7.0  2\n",
      "2019-01-03   8   9  2019.0  3\n",
      "2019-01-04  12  13    15.0  4\n",
      "2019-01-05  16  17    19.0  5\n",
      "2019-01-06  20  21    23.0  6\n"
     ]
    }
   ],
   "source": [
    "#填充缺失值\n",
    "df.iloc[2,2]=np.nan\n",
    "print(df)\n",
    "df = df.fillna(value=2019)\n",
    "print(df)"
   ]
  },
  {
   "cell_type": "code",
   "execution_count": 13,
   "metadata": {},
   "outputs": [
    {
     "name": "stdout",
     "output_type": "stream",
     "text": [
      "             A   B     D  E\n",
      "2019-01-01   0   1   3.0  1\n",
      "2019-01-02   4   5   7.0  2\n",
      "2019-01-03   8   9   NaN  3\n",
      "2019-01-04  12  13  15.0  4\n",
      "2019-01-05  16  17  19.0  5\n",
      "2019-01-06  20  21  23.0  6\n",
      "                A      B      D      E\n",
      "2019-01-01  False  False  False  False\n",
      "2019-01-02  False  False  False  False\n",
      "2019-01-03  False  False   True  False\n",
      "2019-01-04  False  False  False  False\n",
      "2019-01-05  False  False  False  False\n",
      "2019-01-06  False  False  False  False\n"
     ]
    }
   ],
   "source": [
    "#检查是否存在缺失值 结果以True和False给出\n",
    "df.iloc[2,2]=np.nan\n",
    "print(df)\n",
    "print(df.isnull())"
   ]
  },
  {
   "cell_type": "code",
   "execution_count": 14,
   "metadata": {},
   "outputs": [
    {
     "name": "stdout",
     "output_type": "stream",
     "text": [
      "0   -0.475712\n",
      "1   -1.233039\n",
      "2   -0.149504\n",
      "3    1.159520\n",
      "4    0.351145\n",
      "5   -0.584057\n",
      "dtype: float64\n"
     ]
    },
    {
     "data": {
      "image/png": "[encoded data removed]",
      "text/plain": [
       "<Figure size 432x288 with 1 Axes>"
      ]
     },
     "metadata": {
      "needs_background": "light"
     },
     "output_type": "display_data"
    }
   ],
   "source": [
    "data = pd.Series(np.random.randn(1000),index=np.arange(1000))\n",
    "datas = data.cumsum()\n",
    "print(data.head(6))\n",
    "datas.plot()\n",
    "plt.show()"
   ]
  },
  {
   "cell_type": "code",
   "execution_count": 15,
   "metadata": {},
   "outputs": [
    {
     "name": "stdout",
     "output_type": "stream",
     "text": [
      "          A         B         C         D\n",
      "0  1.233364  0.113067  0.444545 -1.625460\n",
      "1 -1.608245 -0.767923 -1.447006  1.127307\n",
      "2 -0.679909  0.452427 -0.541347 -0.890027\n",
      "3  1.530606  0.175930  0.640663  1.265277\n",
      "4  0.716897 -1.159181 -0.869065 -0.038671\n",
      "5  0.299281  0.414143  1.601342  0.567191\n"
     ]
    },
    {
     "data": {
      "image/png": "[encoded data removed]",
      "text/plain": [
       "<Figure size 432x288 with 1 Axes>"
      ]
     },
     "metadata": {
      "needs_background": "light"
     },
     "output_type": "display_data"
    }
   ],
   "source": [
    "data =pd.DataFrame(np.random.randn(1000,4),index=np.arange(1000),columns=list(\"ABCD\"))\n",
    "datas = data.cumsum()\n",
    "print(data.head(6))\n",
    "datas.plot()\n",
    "plt.show()"
   ]
  }
 ],
 "metadata": {
  "kernelspec": {
   "display_name": "Python 3",
   "language": "python",
   "name": "python3"
  },
  "language_info": {
   "codemirror_mode": {
    "name": "ipython",
    "version": 3
   },
   "file_extension": ".py",
   "mimetype": "text/x-python",
   "name": "python",
   "nbconvert_exporter": "python",
   "pygments_lexer": "ipython3",
   "version": "3.7.0"
  }
 },
 "nbformat": 4,
 "nbformat_minor": 2
}
