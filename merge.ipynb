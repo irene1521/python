{
 "cells": [
  {
   "cell_type": "code",
   "execution_count": 4,
   "metadata": {},
   "outputs": [],
   "source": [
    "import numpy as np\n",
    "import pandas as pd\n",
    "import matplotlib.pyplot as plt"
   ]
  },
  传入文件
  {
   "cell_type": "code",
   "execution_count": 5,
   "metadata": {},
   "outputs": [],
   "source": [
    "df1 = pd.DataFrame(np.ones((3,4))*0,columns=[\"a\",\"b\",\"c\",\"d\"])\n",
    "df2 = pd.DataFrame(np.ones((3,4))*1,columns=[\"a\",\"b\",\"c\",\"d\"])\n",
    "df3 = pd.DataFrame(np.ones((3,4))*2,columns=[\"a\",\"b\",\"c\",\"d\"])"
   ]
  },
  {
   "cell_type": "code",
   "execution_count": 7,
   "metadata": {},
   "outputs": [
    {
     "name": "stdout",
     "output_type": "stream",
     "text": [
      "    0    1    2    3    4    5    6    7    8    9    10   11\n",
      "0  0.0  0.0  0.0  0.0  1.0  1.0  1.0  1.0  2.0  2.0  2.0  2.0\n",
      "1  0.0  0.0  0.0  0.0  1.0  1.0  1.0  1.0  2.0  2.0  2.0  2.0\n",
      "2  0.0  0.0  0.0  0.0  1.0  1.0  1.0  1.0  2.0  2.0  2.0  2.0\n"
     ]
    }
   ],
   "source": [
    "#合并 0为纵向合并 1为横向合并\n",
    "res = pd.concat([df1,df2,df3],axis=1,ignore_index=True) #0为纵向合并 1为横向合并 ignoreindex可避免索引重复\n",
    "print(res)"
   ]
  },
  {
   "cell_type": "code",
   "execution_count": 9,
   "metadata": {},
   "outputs": [
    {
     "name": "stdout",
     "output_type": "stream",
     "text": [
      "     a    b    c    d\n",
      "1  0.0  0.0  0.0  0.0\n",
      "2  0.0  0.0  0.0  0.0\n",
      "3  0.0  0.0  0.0  0.0\n",
      "     b    c    d    e\n",
      "2  1.0  1.0  1.0  1.0\n",
      "3  1.0  1.0  1.0  1.0\n",
      "4  1.0  1.0  1.0  1.0\n",
      "     b    c    d\n",
      "1  0.0  0.0  0.0\n",
      "2  0.0  0.0  0.0\n",
      "3  0.0  0.0  0.0\n",
      "2  1.0  1.0  1.0\n",
      "3  1.0  1.0  1.0\n",
      "4  1.0  1.0  1.0\n"
     ]
    }
   ],
   "source": [
    "#横向合并\n",
    "df1 = pd.DataFrame(np.ones((3,4))*0,columns=[\"a\",\"b\",\"c\",\"d\"],index=[1,2,3])\n",
    "df2 = pd.DataFrame(np.ones((3,4))*1,columns=[\"b\",\"c\",\"d\",\"e\"],index=[2,3,4])\n",
    "res = pd.concat([df1,df2],join=\"inner\")#join默认为outer即列值不存在显示nan inner为只显示交集列\n",
    "print(df1)\n",
    "print(df2)\n",
    "print(res)"
   ]
  },
  {
   "cell_type": "code",
   "execution_count": 10,
   "metadata": {},
   "outputs": [
    {
     "name": "stdout",
     "output_type": "stream",
     "text": [
      "     a    b    c    d    b    c    d    e\n",
      "1  0.0  0.0  0.0  0.0  NaN  NaN  NaN  NaN\n",
      "2  0.0  0.0  0.0  0.0  1.0  1.0  1.0  1.0\n",
      "3  0.0  0.0  0.0  0.0  1.0  1.0  1.0  1.0\n"
     ]
    }
   ],
   "source": [
    "df1 = pd.DataFrame(np.ones((3,4))*0,columns=[\"a\",\"b\",\"c\",\"d\"],index=[1,2,3])\n",
    "df2 = pd.DataFrame(np.ones((3,4))*1,columns=[\"b\",\"c\",\"d\",\"e\"],index=[2,3,4])\n",
    "res = pd.concat([df1,df2],axis=1,join_axes=[df1.index])#只考虑第一个frame的index\n",
    "print(res)"
   ]
  },
  {
   "cell_type": "code",
   "execution_count": 11,
   "metadata": {},
   "outputs": [
    {
     "name": "stdout",
     "output_type": "stream",
     "text": [
      "     a    b    c    d\n",
      "0  0.0  0.0  0.0  0.0\n",
      "1  0.0  0.0  0.0  0.0\n",
      "2  0.0  0.0  0.0  0.0\n",
      "3  1.0  1.0  1.0  1.0\n",
      "4  1.0  1.0  1.0  1.0\n",
      "5  1.0  1.0  1.0  1.0\n",
      "     a    b    c    d    e\n",
      "0  0.0  0.0  0.0  0.0  NaN\n",
      "1  0.0  0.0  0.0  0.0  NaN\n",
      "2  0.0  0.0  0.0  0.0  NaN\n",
      "0  1.0  1.0  1.0  1.0  NaN\n",
      "1  1.0  1.0  1.0  1.0  NaN\n",
      "2  1.0  1.0  1.0  1.0  NaN\n",
      "2  NaN  1.0  1.0  1.0  1.0\n",
      "3  NaN  1.0  1.0  1.0  1.0\n",
      "4  NaN  1.0  1.0  1.0  1.0\n"
     ]
    },
    {
     "name": "stderr",
     "output_type": "stream",
     "text": [
      "D:\\Anaconda\\lib\\site-packages\\pandas\\core\\frame.py:6211: FutureWarning: Sorting because non-concatenation axis is not aligned. A future version\n",
      "of pandas will change to not sort by default.\n",
      "\n",
      "To accept the future behavior, pass 'sort=False'.\n",
      "\n",
      "To retain the current behavior and silence the warning, pass 'sort=True'.\n",
      "\n",
      "  sort=sort)\n"
     ]
    }
   ],
   "source": [
    "#纵向合并\n",
    "df1 = pd.DataFrame(np.ones((3,4))*0,columns=[\"a\",\"b\",\"c\",\"d\"])\n",
    "df2 = pd.DataFrame(np.ones((3,4))*1,columns=[\"a\",\"b\",\"c\",\"d\"])\n",
    "df3 = pd.DataFrame(np.ones((3,4))*1,columns=[\"b\",\"c\",\"d\",\"e\"],index=[2,3,4])\n",
    "res1 = df1.append(df2,ignore_index=True)\n",
    "res2 = df1.append([df2,df3])\n",
    "print(res1)\n",
    "print(res2)"
   ]
  },
  {
   "cell_type": "code",
   "execution_count": 12,
   "metadata": {},
   "outputs": [
    {
     "name": "stdout",
     "output_type": "stream",
     "text": [
      "     a    b    c    d\n",
      "0  0.0  0.0  0.0  0.0\n",
      "1  0.0  0.0  0.0  0.0\n",
      "2  0.0  0.0  0.0  0.0\n",
      "3  1.0  2.0  3.0  4.0\n"
     ]
    }
   ],
   "source": [
    "#具体添加某几行数据\n",
    "df1 = pd.DataFrame(np.ones((3,4))*0,columns=[\"a\",\"b\",\"c\",\"d\"])\n",
    "s1 = pd.Series([1,2,3,4],index=[\"a\",\"b\",\"c\",\"d\"])\n",
    "res = df1.append(s1,ignore_index=True)\n",
    "print(res)"
   ]
  },
  {
   "cell_type": "code",
   "execution_count": 14,
   "metadata": {},
   "outputs": [
    {
     "name": "stdout",
     "output_type": "stream",
     "text": [
      "  key   A   B\n",
      "0  k0  A0  B0\n",
      "1  k1  A1  B1\n",
      "2  k2  A2  B2\n",
      "3  k3  A3  B3\n",
      "  key   C   D\n",
      "0  k0  C0  D0\n",
      "1  k1  C1  D1\n",
      "2  k2  C2  D2\n",
      "3  k3  C3  D3\n",
      "  key   A   B   C   D\n",
      "0  k0  A0  B0  C0  D0\n",
      "1  k1  A1  B1  C1  D1\n",
      "2  k2  A2  B2  C2  D2\n",
      "3  k3  A3  B3  C3  D3\n"
     ]
    }
   ],
   "source": [
    "#以某列作为合并依据\n",
    "left = pd.DataFrame({\"key\":[\"k0\",\"k1\",\"k2\",\"k3\"],\n",
    "                     \"A\":[\"A0\",\"A1\",\"A2\",\"A3\"],\n",
    "                     \"B\":[\"B0\",\"B1\",\"B2\",\"B3\"]})\n",
    "right = pd.DataFrame({\"key\":[\"k0\",\"k1\",\"k2\",\"k3\"],\n",
    "                     \"C\":[\"C0\",\"C1\",\"C2\",\"C3\"],\n",
    "                     \"D\":[\"D0\",\"D1\",\"D2\",\"D3\"]})\n",
    "print(left)\n",
    "print(right)\n",
    "res = pd.merge(left,right,on=\"key\")\n",
    "print(res)"
   ]
  },
  {
   "cell_type": "code",
   "execution_count": 21,
   "metadata": {},
   "outputs": [
    {
     "name": "stdout",
     "output_type": "stream",
     "text": [
      "  key1 key2   A   B\n",
      "0   k0   k0  A0  B0\n",
      "1   k0   k1  A1  B1\n",
      "2   k1   k0  A2  B2\n",
      "3   k2   k1  A3  B3\n",
      "  key1 key2   C   D\n",
      "0   k0   k0  C0  D0\n",
      "1   k1   k0  C1  D1\n",
      "2   k1   k0  C2  D2\n",
      "3   k2   k0  C3  D3\n",
      "  key1 key2   A   B   C   D\n",
      "0   k0   k0  A0  B0  C0  D0\n",
      "1   k1   k0  A2  B2  C1  D1\n",
      "2   k1   k0  A2  B2  C2  D2\n",
      "  key1 key2    A    B    C    D\n",
      "0   k0   k0   A0   B0   C0   D0\n",
      "1   k0   k1   A1   B1  NaN  NaN\n",
      "2   k1   k0   A2   B2   C1   D1\n",
      "3   k1   k0   A2   B2   C2   D2\n",
      "4   k2   k1   A3   B3  NaN  NaN\n",
      "5   k2   k0  NaN  NaN   C3   D3\n",
      "  key1 key2   A   B    C    D\n",
      "0   k0   k0  A0  B0   C0   D0\n",
      "1   k0   k1  A1  B1  NaN  NaN\n",
      "2   k1   k0  A2  B2   C1   D1\n",
      "3   k1   k0  A2  B2   C2   D2\n",
      "4   k2   k1  A3  B3  NaN  NaN\n",
      "  key1 key2    A    B   C   D\n",
      "0   k0   k0   A0   B0  C0  D0\n",
      "1   k1   k0   A2   B2  C1  D1\n",
      "2   k1   k0   A2   B2  C2  D2\n",
      "3   k2   k0  NaN  NaN  C3  D3\n"
     ]
    }
   ],
   "source": [
    "left =pd.DataFrame({\"key1\":[\"k0\",\"k0\",\"k1\",\"k2\"],\n",
    "\"key2\":[\"k0\",\"k1\",\"k0\",\"k1\"],\n",
    "\"A\":[\"A0\",\"A1\",\"A2\",\"A3\"],\n",
    "\"B\":[\"B0\",\"B1\",\"B2\",\"B3\"]})\n",
    "right =pd.DataFrame({\"key1\":[\"k0\",\"k1\",\"k1\",\"k2\"],\n",
    "\"key2\":[\"k0\",\"k0\",\"k0\",\"k0\"],\n",
    "\"C\":[\"C0\",\"C1\",\"C2\",\"C3\"],\n",
    "\"D\":[\"D0\",\"D1\",\"D2\",\"D3\"]})\n",
    "print(left)\n",
    "print(right)\n",
    "res1 = pd.merge(left,right,on=[\"key1\",\"key2\"])#默认为只考虑交集部分inner\n",
    "res2 = pd.merge(left,right,on=[\"key1\",\"key2\"],how=\"outer\")\n",
    "res3 = pd.merge(left,right,on=[\"key1\",\"key2\"],how=\"left\")\n",
    "res4 = pd.merge(left,right,on=[\"key1\",\"key2\"],how=\"right\")\n",
    "#how 四种方式： inner取交集 outer取合集 未匹配的用nan代替 left以左边的为主 复制下来 right\n",
    "print(res1)\n",
    "print(res2)\n",
    "print(res3)\n",
    "print(res4)"
   ]
  },
  {
   "cell_type": "code",
   "execution_count": 23,
   "metadata": {},
   "outputs": [
    {
     "name": "stdout",
     "output_type": "stream",
     "text": [
      "   column1 col_left\n",
      "0        0        a\n",
      "1        1        b\n",
      "   column1  col_right\n",
      "0        1          2\n",
      "1        2          2\n",
      "2        2          2\n",
      "   column1 col_left  col_right indicator_column\n",
      "0        0        a        NaN        left_only\n",
      "1        1        b        2.0             both\n",
      "2        2      NaN        2.0       right_only\n",
      "3        2      NaN        2.0       right_only\n"
     ]
    }
   ],
   "source": [
    "df1 = pd.DataFrame({\"column1\":[0,1],\n",
    "                   \"col_left\":[\"a\",\"b\"]})\n",
    "df2 = pd.DataFrame({\"column1\":[1,2,2],\n",
    "                   \"col_right\":[2,2,2]})\n",
    "print(df1)\n",
    "print(df2)\n",
    "#res = pd.merge(df1,df2,on=\"column1\",how=\"outer\",indicator=True)#显示合并方式\n",
    "res = pd.merge(df1,df2,on=\"column1\",how=\"outer\",indicator=\"indicator_column\")#改变indicator列名\n",
    "print(res)"
   ]
  },
  {
   "cell_type": "code",
   "execution_count": 24,
   "metadata": {},
   "outputs": [
    {
     "name": "stdout",
     "output_type": "stream",
     "text": [
      "     A   B\n",
      "K0  A0  B0\n",
      "K1  A1  B1\n",
      "K2  A2  B2\n",
      "     C   D\n",
      "K0  C0  D0\n",
      "K2  C2  D2\n",
      "K3  C3  D3\n",
      "      A    B    C    D\n",
      "K0   A0   B0   C0   D0\n",
      "K1   A1   B1  NaN  NaN\n",
      "K2   A2   B2   C2   D2\n",
      "K3  NaN  NaN   C3   D3\n",
      "     A   B   C   D\n",
      "K0  A0  B0  C0  D0\n",
      "K2  A2  B2  C2  D2\n"
     ]
    }
   ],
   "source": [
    "left = pd.DataFrame({'A': ['A0', 'A1', 'A2'],\n",
    "'B': ['B0', 'B1', 'B2']},\n",
    "index=['K0', 'K1', 'K2'])\n",
    "right = pd.DataFrame({'C': ['C0', 'C2', 'C3'],\n",
    "'D': ['D0', 'D2', 'D3']},\n",
    "index=['K0', 'K2', 'K3'])\n",
    "print(left)\n",
    "print(right)\n",
    "# left_index and right_index\n",
    "res = pd.merge(left, right, left_index=True, right_index=True, how='outer')\n",
    "print(res)\n",
    "res2 = pd.merge(left, right, left_index=True, right_index=True, how='inner')\n",
    "print(res2)"
   ]
  },
  {
   "cell_type": "code",
   "execution_count": 25,
   "metadata": {},
   "outputs": [
    {
     "name": "stdout",
     "output_type": "stream",
     "text": [
      "    k  age\n",
      "0  K0    1\n",
      "1  K1    2\n",
      "2  K2    3\n",
      "    k  age\n",
      "0  K0    4\n",
      "1  K0    5\n",
      "2  K3    6\n",
      "    k  age_boy  age_girl\n",
      "0  K0      1.0       4.0\n",
      "1  K0      1.0       5.0\n",
      "2  K1      2.0       NaN\n",
      "3  K2      3.0       NaN\n",
      "4  K3      NaN       6.0\n"
     ]
    }
   ],
   "source": [
    "boys = pd.DataFrame({'k': ['K0', 'K1', 'K2'], 'age': [1, 2, 3]})\n",
    "girls = pd.DataFrame({'k': ['K0', 'K0', 'K3'], 'age': [4, 5, 6]})\n",
    "print(boys)\n",
    "print(girls)\n",
    "res = pd.merge(boys, girls, on='k', suffixes=['_boy', '_girl'], how='outer')#\n",
    "print(res)"
   ]
  },
  {
   "cell_type": "code",
   "execution_count": null,
   "metadata": {},
   "outputs": [],
   "source": []
  }
 ],
 "metadata": {
  "kernelspec": {
   "display_name": "Python 3",
   "language": "python",
   "name": "python3"
  },
  "language_info": {
   "codemirror_mode": {
    "name": "ipython",
    "version": 3
   },
   "file_extension": ".py",
   "mimetype": "text/x-python",
   "name": "python",
   "nbconvert_exporter": "python",
   "pygments_lexer": "ipython3",
   "version": "3.7.0"
  }
 },
 "nbformat": 4,
 "nbformat_minor": 2
}
