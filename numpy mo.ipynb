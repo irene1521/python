{
 "cells": [
  {
   "cell_type": "code",
   "execution_count": 1,
   "metadata": {},
   "outputs": [],
   "source": [
    "import numpy as np"
   ]
  },
  {
   "cell_type": "code",
   "execution_count": 2,
   "metadata": {},
   "outputs": [
    {
     "name": "stdout",
     "output_type": "stream",
     "text": [
      "[[1 2 3]\n",
      " [2 3 4]]\n"
     ]
    }
   ],
   "source": [
    "#创建矩阵 np.array([[column1],[column2]])\n",
    "arr = np.array([[1,2,3],[2,3,4]])\n",
    "print(arr)"
   ]
  },
  {
   "cell_type": "code",
   "execution_count": 3,
   "metadata": {},
   "outputs": [
    {
     "name": "stdout",
     "output_type": "stream",
     "text": [
      "shape: (2, 3)\n",
      "number of dim: 2\n",
      "size: 6\n"
     ]
    }
   ],
   "source": [
    "#矩阵的行列数 namex.shape\n",
    "print('shape:',arr.shape)\n",
    "#矩阵的维数 namex.ndim\n",
    "print('number of dim:',arr.ndim)\n",
    "#矩阵的元素个数 namex.size\n",
    "print('size:',arr.size)"
   ]
  },
  {
   "cell_type": "code",
   "execution_count": 4,
   "metadata": {},
   "outputs": [
    {
     "name": "stdout",
     "output_type": "stream",
     "text": [
      "a: [[0. 0. 0.]\n",
      " [0. 0. 0.]]\n",
      "b: [[1. 1.]\n",
      " [1. 1.]\n",
      " [1. 1.]]\n",
      "c: [[0.55848856 0.50852519 0.45616956]\n",
      " [0.71807243 0.29272935 0.20704363]\n",
      " [0.20614456 0.63367445 0.59771044]]\n"
     ]
    }
   ],
   "source": [
    "#全是0的矩阵\n",
    "a = np.zeros((2,3))\n",
    "print(\"a:\",a)\n",
    "#全是1的矩阵\n",
    "b = np.ones((3,2))\n",
    "print(\"b:\",b)\n",
    "#随机生成矩阵\n",
    "c = np.random.random((3,3))\n",
    "print(\"c:\",c)"
   ]
  },
  {
   "cell_type": "code",
   "execution_count": 5,
   "metadata": {},
   "outputs": [
    {
     "name": "stdout",
     "output_type": "stream",
     "text": [
      "d: [[1.  1.5 2.  2.5]\n",
      " [3.  3.5 4.  4.5]]\n",
      "e: [[ 1.  20.6]\n",
      " [40.2 59.8]\n",
      " [79.4 99. ]]\n"
     ]
    }
   ],
   "source": [
    "#根据数值范围生成矩阵 np.arange(min,max,step).reshape((r,c))  默认下限为0 步长为1\n",
    "d = np.arange(1,5,0.5).reshape((2,4))\n",
    "print(\"d:\",d)\n",
    "#根据元素个数生成矩阵 np.linspace(num1,numx,n).reshape((r,c))\n",
    "e = np.linspace(1,99,6).reshape((3,2))\n",
    "print(\"e:\",e)"
   ]
  },
  {
   "cell_type": "code",
   "execution_count": 6,
   "metadata": {},
   "outputs": [
    {
     "name": "stdout",
     "output_type": "stream",
     "text": [
      "[[ 3  8 15]\n",
      " [ 2  6 12]]\n"
     ]
    }
   ],
   "source": [
    "#矩阵对应位置直接相乘\n",
    "a = np.array([[1,2,3],[2,3,4]])\n",
    "b = np.array([[3,4,5],[1,2,3]])\n",
    "c = a*b\n",
    "print(c)"
   ]
  },
  {
   "cell_type": "code",
   "execution_count": 7,
   "metadata": {},
   "outputs": [
    {
     "name": "stdout",
     "output_type": "stream",
     "text": [
      "a: [[1 2 3]\n",
      " [2 3 4]]\n",
      "b: [[3 4]\n",
      " [1 2]\n",
      " [2 3]]\n",
      "c: [[11 17]\n",
      " [17 26]]\n"
     ]
    }
   ],
   "source": [
    "#矩阵相乘\n",
    "a = np.array([[1,2,3],[2,3,4]])\n",
    "b = np.array([[3,4],[1,2],[2,3]])\n",
    "c = np.dot(a,b)\n",
    "print(\"a:\",a)\n",
    "print(\"b:\",b)\n",
    "print(\"c:\",c)"
   ]
  },
  {
   "cell_type": "code",
   "execution_count": 8,
   "metadata": {},
   "outputs": [
    {
     "name": "stdout",
     "output_type": "stream",
     "text": [
      "True\n"
     ]
    }
   ],
   "source": [
    "#判断矩阵中元素大小\n",
    "b = 2\n",
    "print(b<3)"
   ]
  },
  {
   "cell_type": "code",
   "execution_count": 9,
   "metadata": {},
   "outputs": [
    {
     "name": "stdout",
     "output_type": "stream",
     "text": [
      "sum: [3 5 7]\n",
      "max： [2 3 4]\n",
      "min： [1 2 3]\n",
      "mean： [2. 3.]\n",
      "cumsum： [[1 3 6]\n",
      " [2 5 9]]\n"
     ]
    }
   ],
   "source": [
    "a=np.array([[1,2,3],[2,3,4]])\n",
    "#axis 1代表行 0代表列\n",
    "#求和\n",
    "print(\"sum:\",np.sum(a,axis=0))\n",
    "#最大值\n",
    "print(\"max：\",np.max(a,axis=0))\n",
    "#最小值\n",
    "print(\"min：\",np.min(a,axis=0))\n",
    "#均值\n",
    "print(\"mean：\",np.mean(a,axis=1))\n",
    "#累加值\n",
    "print(\"cumsum：\",np.cumsum(a,axis=1))"
   ]
  },
  {
   "cell_type": "code",
   "execution_count": 10,
   "metadata": {},
   "outputs": [
    {
     "name": "stdout",
     "output_type": "stream",
     "text": [
      "[1 1 1]\n"
     ]
    }
   ],
   "source": [
    "a=np.array([[1,2,3],[2,3,4]])\n",
    "#求最大值最小值在第几位 位数从0开始\n",
    "print(np.argmax(a,axis=0))"
   ]
  },
  {
   "cell_type": "code",
   "execution_count": 11,
   "metadata": {},
   "outputs": [
    {
     "name": "stdout",
     "output_type": "stream",
     "text": [
      "[[ 2  2 -1]]\n"
     ]
    }
   ],
   "source": [
    "a=np.array([[1,5,6],[3,7,5]])\n",
    "#计算每一行的累差值\n",
    "print(np.diff(a,axis=0))"
   ]
  },
  {
   "cell_type": "code",
   "execution_count": 12,
   "metadata": {},
   "outputs": [
    {
     "name": "stdout",
     "output_type": "stream",
     "text": [
      "(array([0, 0, 1, 1, 1], dtype=int64), array([0, 2, 0, 1, 2], dtype=int64))\n"
     ]
    }
   ],
   "source": [
    "a=np.array([[1,0,6],[3,7,5]])\n",
    "#得出哪些行和列的值非零\n",
    "print(np.nonzero(a))\n",
    "#给出的结果中为非零值所在的行和列的位置 第一部分为行 第二部分为列"
   ]
  },
  {
   "cell_type": "code",
   "execution_count": 13,
   "metadata": {},
   "outputs": [
    {
     "name": "stdout",
     "output_type": "stream",
     "text": [
      "[[0 1 6]\n",
      " [3 5 7]]\n"
     ]
    }
   ],
   "source": [
    "a=np.array([[1,0,6],[3,7,5]])\n",
    "#逐行数字排序\n",
    "print(np.sort(a,axis=1))"
   ]
  },
  {
   "cell_type": "code",
   "execution_count": 14,
   "metadata": {},
   "outputs": [
    {
     "name": "stdout",
     "output_type": "stream",
     "text": [
      "a_: [[1 3]\n",
      " [0 7]\n",
      " [6 5]]\n"
     ]
    }
   ],
   "source": [
    "a=np.array([[1,0,6],[3,7,5]])\n",
    "#转置\n",
    "print(\"a_:\",np.transpose(a))"
   ]
  },
  {
   "cell_type": "code",
   "execution_count": 15,
   "metadata": {},
   "outputs": [
    {
     "name": "stdout",
     "output_type": "stream",
     "text": [
      "[[10.  1.  6.]\n",
      " [ 3.  7.  1.]]\n"
     ]
    }
   ],
   "source": [
    "a=np.array([[151,0,6],[3,7,0.05]])\n",
    "#数据平滑 np.clip(a,min,max)\n",
    "print(np.clip(a,1,10))"
   ]
  },
  {
   "cell_type": "code",
   "execution_count": 16,
   "metadata": {},
   "outputs": [
    {
     "name": "stdout",
     "output_type": "stream",
     "text": [
      "7\n",
      "[[ 1  0  6]\n",
      " [ 3 18  5]]\n",
      "[[1 0 6]\n",
      " [3 7 5]]\n"
     ]
    }
   ],
   "source": [
    "a=np.array([[1,0,6],[3,7,5]])\n",
    "#根据位置找到具体某个值 0开始 ：代表所有数\n",
    "print(a[1,1])\n",
    "#非传递赋值\n",
    "b = a.copy()\n",
    "a[1,1]=18 #根据位置改变某一个值\n",
    "print(a)\n",
    "print(b)"
   ]
  },
  {
   "cell_type": "code",
   "execution_count": 17,
   "metadata": {},
   "outputs": [
    {
     "name": "stdout",
     "output_type": "stream",
     "text": [
      "[1 0 6]\n",
      "[3 7 5]\n",
      "[1 3]\n",
      "[0 7]\n",
      "[6 5]\n",
      "1\n",
      "0\n",
      "6\n",
      "3\n",
      "7\n",
      "5\n"
     ]
    }
   ],
   "source": [
    "a=np.array([[1,0,6],[3,7,5]])\n",
    "#输出所有行/列 row column\n",
    "for row in a:\n",
    "    print(row)\n",
    "#转置后输出\n",
    "for column in a.T:\n",
    "    print(column)\n",
    "#输出所有元素\n",
    "for item in a.flat:\n",
    "    print(item)"
   ]
  },
  {
   "cell_type": "code",
   "execution_count": 18,
   "metadata": {},
   "outputs": [
    {
     "name": "stdout",
     "output_type": "stream",
     "text": [
      "[[1 0 6]\n",
      " [3 7 5]\n",
      " [3 4 7]\n",
      " [2 8 4]]\n",
      "[[1 0 6 3 4 7]\n",
      " [3 7 5 2 8 4]]\n",
      "------------\n",
      "[array([[3],\n",
      "       [2]]), array([[4],\n",
      "       [8]]), array([[7],\n",
      "       [4]])]\n",
      "------------\n",
      "[array([[3, 4],\n",
      "       [2, 8]]), array([[7],\n",
      "       [4]])]\n",
      "------------\n",
      "[array([[1, 0, 6]]), array([[3, 7, 5]])]\n",
      "------------\n",
      "[array([[1],\n",
      "       [3]]), array([[0],\n",
      "       [7]]), array([[6],\n",
      "       [5]])]\n"
     ]
    }
   ],
   "source": [
    "a=np.array([[1,0,6],[3,7,5]])\n",
    "b=np.array([[3,4,7],[2,8,4]])\n",
    "#上下合并矩阵\n",
    "print(np.vstack((a,b)))\n",
    "#左右合并矩阵\n",
    "print(np.hstack((a,b)))\n",
    "print(\"------------\")\n",
    "#分割矩阵  np.split(a,分割为几块,对行/列分) 1为竖向分割 0为衡量分割\n",
    "print(np.split(b,3,1))\n",
    "print(\"------------\")\n",
    "#不等分割矩阵 第一个矩阵最多\n",
    "print(np.array_split(b,2,1))\n",
    "print(\"------------\")\n",
    "#横向分割矩阵\n",
    "print(np.vsplit(a,2))\n",
    "print(\"------------\")\n",
    "#竖向分割矩阵\n",
    "print(np.hsplit(a,3))"
   ]
  }
 ],
 "metadata": {
  "kernelspec": {
   "display_name": "Python 3",
   "language": "python",
   "name": "python3"
  },
  "language_info": {
   "codemirror_mode": {
    "name": "ipython",
    "version": 3
   },
   "file_extension": ".py",
   "mimetype": "text/x-python",
   "name": "python",
   "nbconvert_exporter": "python",
   "pygments_lexer": "ipython3",
   "version": "3.7.0"
  }
 },
 "nbformat": 4,
 "nbformat_minor": 2
}
